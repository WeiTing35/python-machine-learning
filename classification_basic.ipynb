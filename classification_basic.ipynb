{
 "cells": [
  {
   "cell_type": "markdown",
   "metadata": {},
   "source": [
    "# Classification(basic)\n",
    "   In this example ,we will know how to use KNN/SVM to classify the dataset. \n",
    "   \n",
    "   To use the sklearn smoothly, we have to quantitative some data in the file first. \n",
    "   \n",
    "   In the end we can compare the result of different methods."
   ]
  },
  {
   "cell_type": "code",
   "execution_count": 1,
   "metadata": {
    "collapsed": true
   },
   "outputs": [],
   "source": [
    "#import models\n",
    "%matplotlib inline\n",
    "import numpy as np               #import numpy for cal\n",
    "import pandas as pd              #import pandas for read file\n",
    "import matplotlib.pyplot as plt  #import matplotlib to show some graph "
   ]
  },
  {
   "cell_type": "code",
   "execution_count": 2,
   "metadata": {
    "collapsed": true
   },
   "outputs": [],
   "source": [
    "names = pd.read_csv('car.c45-names.txt',sep = '\\t',encoding = 'utf-8',header=None)            #read file\n",
    "car_data = pd.read_csv('car.data.txt',sep = \",\",encoding = 'utf-8')                           #read file\n",
    "car_data.columns=[\"buying\", \"maint\", \"doors\", \"persons\", \"lug_boot\", \"safety\", \"class_values\"]#add titles \n"
   ]
  },
  {
   "cell_type": "code",
   "execution_count": 3,
   "metadata": {},
   "outputs": [
    {
     "data": {
      "text/html": [
       "<div>\n",
       "<style scoped>\n",
       "    .dataframe tbody tr th:only-of-type {\n",
       "        vertical-align: middle;\n",
       "    }\n",
       "\n",
       "    .dataframe tbody tr th {\n",
       "        vertical-align: top;\n",
       "    }\n",
       "\n",
       "    .dataframe thead th {\n",
       "        text-align: right;\n",
       "    }\n",
       "</style>\n",
       "<table border=\"1\" class=\"dataframe\">\n",
       "  <thead>\n",
       "    <tr style=\"text-align: right;\">\n",
       "      <th></th>\n",
       "      <th>0</th>\n",
       "    </tr>\n",
       "  </thead>\n",
       "  <tbody>\n",
       "    <tr>\n",
       "      <th>0</th>\n",
       "      <td>| names file (C4.5 format) for car evaluation ...</td>\n",
       "    </tr>\n",
       "    <tr>\n",
       "      <th>1</th>\n",
       "      <td>| class values</td>\n",
       "    </tr>\n",
       "    <tr>\n",
       "      <th>2</th>\n",
       "      <td>unacc, acc, good, vgood</td>\n",
       "    </tr>\n",
       "    <tr>\n",
       "      <th>3</th>\n",
       "      <td>| attributes</td>\n",
       "    </tr>\n",
       "    <tr>\n",
       "      <th>4</th>\n",
       "      <td>buying:   vhigh, high, med, low.</td>\n",
       "    </tr>\n",
       "    <tr>\n",
       "      <th>5</th>\n",
       "      <td>maint:    vhigh, high, med, low.</td>\n",
       "    </tr>\n",
       "    <tr>\n",
       "      <th>6</th>\n",
       "      <td>doors:    2, 3, 4, 5more.</td>\n",
       "    </tr>\n",
       "    <tr>\n",
       "      <th>7</th>\n",
       "      <td>persons:  2, 4, more.</td>\n",
       "    </tr>\n",
       "    <tr>\n",
       "      <th>8</th>\n",
       "      <td>lug_boot: small, med, big.</td>\n",
       "    </tr>\n",
       "    <tr>\n",
       "      <th>9</th>\n",
       "      <td>safety:   low, med, high.</td>\n",
       "    </tr>\n",
       "  </tbody>\n",
       "</table>\n",
       "</div>"
      ],
      "text/plain": [
       "                                                   0\n",
       "0  | names file (C4.5 format) for car evaluation ...\n",
       "1                                     | class values\n",
       "2                            unacc, acc, good, vgood\n",
       "3                                       | attributes\n",
       "4                   buying:   vhigh, high, med, low.\n",
       "5                   maint:    vhigh, high, med, low.\n",
       "6                          doors:    2, 3, 4, 5more.\n",
       "7                              persons:  2, 4, more.\n",
       "8                         lug_boot: small, med, big.\n",
       "9                          safety:   low, med, high."
      ]
     },
     "execution_count": 3,
     "metadata": {},
     "output_type": "execute_result"
    }
   ],
   "source": [
    "names   #check the datesets file contains"
   ]
  },
  {
   "cell_type": "code",
   "execution_count": 4,
   "metadata": {},
   "outputs": [
    {
     "data": {
      "text/html": [
       "<div>\n",
       "<style scoped>\n",
       "    .dataframe tbody tr th:only-of-type {\n",
       "        vertical-align: middle;\n",
       "    }\n",
       "\n",
       "    .dataframe tbody tr th {\n",
       "        vertical-align: top;\n",
       "    }\n",
       "\n",
       "    .dataframe thead th {\n",
       "        text-align: right;\n",
       "    }\n",
       "</style>\n",
       "<table border=\"1\" class=\"dataframe\">\n",
       "  <thead>\n",
       "    <tr style=\"text-align: right;\">\n",
       "      <th></th>\n",
       "      <th>buying</th>\n",
       "      <th>maint</th>\n",
       "      <th>doors</th>\n",
       "      <th>persons</th>\n",
       "      <th>lug_boot</th>\n",
       "      <th>safety</th>\n",
       "      <th>class_values</th>\n",
       "    </tr>\n",
       "  </thead>\n",
       "  <tbody>\n",
       "    <tr>\n",
       "      <th>0</th>\n",
       "      <td>vhigh</td>\n",
       "      <td>vhigh</td>\n",
       "      <td>2</td>\n",
       "      <td>2</td>\n",
       "      <td>small</td>\n",
       "      <td>med</td>\n",
       "      <td>unacc</td>\n",
       "    </tr>\n",
       "    <tr>\n",
       "      <th>1</th>\n",
       "      <td>vhigh</td>\n",
       "      <td>vhigh</td>\n",
       "      <td>2</td>\n",
       "      <td>2</td>\n",
       "      <td>small</td>\n",
       "      <td>high</td>\n",
       "      <td>unacc</td>\n",
       "    </tr>\n",
       "    <tr>\n",
       "      <th>2</th>\n",
       "      <td>vhigh</td>\n",
       "      <td>vhigh</td>\n",
       "      <td>2</td>\n",
       "      <td>2</td>\n",
       "      <td>med</td>\n",
       "      <td>low</td>\n",
       "      <td>unacc</td>\n",
       "    </tr>\n",
       "    <tr>\n",
       "      <th>3</th>\n",
       "      <td>vhigh</td>\n",
       "      <td>vhigh</td>\n",
       "      <td>2</td>\n",
       "      <td>2</td>\n",
       "      <td>med</td>\n",
       "      <td>med</td>\n",
       "      <td>unacc</td>\n",
       "    </tr>\n",
       "    <tr>\n",
       "      <th>4</th>\n",
       "      <td>vhigh</td>\n",
       "      <td>vhigh</td>\n",
       "      <td>2</td>\n",
       "      <td>2</td>\n",
       "      <td>med</td>\n",
       "      <td>high</td>\n",
       "      <td>unacc</td>\n",
       "    </tr>\n",
       "  </tbody>\n",
       "</table>\n",
       "</div>"
      ],
      "text/plain": [
       "  buying  maint doors persons lug_boot safety class_values\n",
       "0  vhigh  vhigh     2       2    small    med        unacc\n",
       "1  vhigh  vhigh     2       2    small   high        unacc\n",
       "2  vhigh  vhigh     2       2      med    low        unacc\n",
       "3  vhigh  vhigh     2       2      med    med        unacc\n",
       "4  vhigh  vhigh     2       2      med   high        unacc"
      ]
     },
     "execution_count": 4,
     "metadata": {},
     "output_type": "execute_result"
    }
   ],
   "source": [
    "car_data.head() #check raw data"
   ]
  },
  {
   "cell_type": "code",
   "execution_count": 5,
   "metadata": {
    "collapsed": true
   },
   "outputs": [],
   "source": [
    "#adjust the file ,so that we can use the file\n",
    "for i in range(1727):\n",
    "    #buying: vhigh, high, med, low.\n",
    "    #buying: 1, 2, 3, 4.\n",
    "    if car_data.buying[i]=='vhigh': \n",
    "        car_data.buying[i]=1\n",
    "    elif car_data.buying[i]=='high':\n",
    "        car_data.buying[i]=2    \n",
    "    elif car_data.buying[i]=='med':\n",
    "        car_data.buying[i]=3\n",
    "    elif car_data.buying[i]=='low':\n",
    "        car_data.buying[i]=4\n",
    "        #################################################\n",
    "        #maint: vhigh, high, med, low\n",
    "        #maint: 1, 2, 3, 4\n",
    "    if car_data.maint[i]=='vhigh':\n",
    "        car_data.maint[i]=1\n",
    "    elif car_data.maint[i]=='high':\n",
    "        car_data.maint[i]=2    \n",
    "    elif car_data.maint[i]=='med':\n",
    "        car_data.maint[i]=3\n",
    "    elif car_data.maint[i]=='low':\n",
    "        car_data.maint[i]=4\n",
    "        ################################################\n",
    "        #doors: 2, 3, 4, 5more\n",
    "        #doors: 2, 3, 4, 5\n",
    "    if car_data.doors[i]=='5more':\n",
    "        car_data.doors[i]=5\n",
    "   \n",
    "        ###############################################\n",
    "        #persons: 2, 4, more\n",
    "        #persons: 2, 4, 6\n",
    "    if car_data.persons[i]=='more':\n",
    "        car_data.persons[i]=6\n",
    "        ##############################################\n",
    "        #lug_boot: small, med, big.\n",
    "        #lug_boot: 1, 2, 3.\n",
    "    if car_data.lug_boot[i]=='small':\n",
    "        car_data.lug_boot[i]=1\n",
    "    elif car_data.lug_boot[i]=='med':\n",
    "        car_data.lug_boot[i]=2    \n",
    "    elif car_data.lug_boot[i]=='big':\n",
    "        car_data.lug_boot[i]=3\n",
    "        #################################################\n",
    "        #safety: low, med, high.\n",
    "        #safety: 1, 2, 3.\n",
    "    if car_data.safety[i]=='low':\n",
    "        car_data.safety[i]=1\n",
    "    elif car_data.safety[i]=='med':\n",
    "        car_data.safety[i]=2    \n",
    "    elif car_data.safety[i]=='high':\n",
    "        car_data.safety[i]=3\n",
    "        "
   ]
  },
  {
   "cell_type": "code",
   "execution_count": 6,
   "metadata": {},
   "outputs": [
    {
     "name": "stdout",
     "output_type": "stream",
     "text": [
      "<class 'pandas.core.frame.DataFrame'>\n",
      "RangeIndex: 1727 entries, 0 to 1726\n",
      "Data columns (total 7 columns):\n",
      "buying          1727 non-null object\n",
      "maint           1727 non-null object\n",
      "doors           1727 non-null object\n",
      "persons         1727 non-null object\n",
      "lug_boot        1727 non-null object\n",
      "safety          1727 non-null object\n",
      "class_values    1727 non-null object\n",
      "dtypes: object(7)\n",
      "memory usage: 94.5+ KB\n"
     ]
    }
   ],
   "source": [
    "car_data.info() #check the dtypes/numbers"
   ]
  },
  {
   "cell_type": "code",
   "execution_count": 7,
   "metadata": {},
   "outputs": [
    {
     "name": "stdout",
     "output_type": "stream",
     "text": [
      "class_values\n",
      "acc       384\n",
      "good       69\n",
      "unacc    1209\n",
      "vgood      65\n",
      "dtype: int64\n"
     ]
    }
   ],
   "source": [
    "print(car_data.groupby('class_values').size()) #print the total number of each parts\n"
   ]
  },
  {
   "cell_type": "code",
   "execution_count": 8,
   "metadata": {
    "scrolled": false
   },
   "outputs": [
    {
     "data": {
      "image/png": "[encoded data removed]",
      "text/plain": [
       "<matplotlib.figure.Figure at 0x2c26f3c1c18>"
      ]
     },
     "metadata": {},
     "output_type": "display_data"
    }
   ],
   "source": [
    "import seaborn as sns #import seaborn to plot\n",
    "sns.countplot(car_data['class_values'],label=\"Count\")  #use seaborn to plot the Bar plot\n",
    "plt.show() #plot\n"
   ]
  },
  {
   "cell_type": "code",
   "execution_count": 9,
   "metadata": {
    "collapsed": true
   },
   "outputs": [],
   "source": [
    "feature_names = ['buying', 'maint', 'doors', 'persons', 'lug_boot', 'safety'] #set the feature_names\n",
    "X = car_data[feature_names]                                                   #set X in feature_names\n",
    "y = car_data['class_values']                                                  #set y for the class_values"
   ]
  },
  {
   "cell_type": "code",
   "execution_count": 10,
   "metadata": {
    "collapsed": true
   },
   "outputs": [],
   "source": [
    "from sklearn.model_selection import train_test_split                       #import sklean to train\n",
    "X_train, X_test, y_train, y_test = train_test_split(X, y, random_state=0)  #set training/testing parts"
   ]
  },
  {
   "cell_type": "code",
   "execution_count": 11,
   "metadata": {
    "collapsed": true
   },
   "outputs": [],
   "source": [
    "from sklearn.preprocessing import MinMaxScaler  #to preprocess\n",
    "scaler = MinMaxScaler()\n",
    "\n",
    "X_train = scaler.fit_transform(X_train)\n",
    "X_test = scaler.transform(X_test)"
   ]
  },
  {
   "cell_type": "markdown",
   "metadata": {},
   "source": [
    "# KNN\n"
   ]
  },
  {
   "cell_type": "code",
   "execution_count": 12,
   "metadata": {},
   "outputs": [
    {
     "name": "stdout",
     "output_type": "stream",
     "text": [
      "Accuracy of K-NN classifier on training set: 0.99\n",
      "Accuracy of K-NN classifier on test set: 0.95\n"
     ]
    }
   ],
   "source": [
    "from sklearn.neighbors import KNeighborsClassifier  #to use KNN\n",
    "\n",
    "knn = KNeighborsClassifier()                        #use the Classifier\n",
    "knn.fit(X_train, y_train)                           #input the data\n",
    "\n",
    "\n",
    "print('Accuracy of K-NN classifier on training set: {:.2f}'.format(knn.score(X_train, y_train))) #show the result\n",
    "print('Accuracy of K-NN classifier on test set: {:.2f}'.format(knn.score(X_test, y_test))) #show the result"
   ]
  },
  {
   "cell_type": "markdown",
   "metadata": {},
   "source": [
    "# confusion_matrix\n",
    "用四個數字來探討判斷的精準度。\n",
    "\n",
    "True Positive(TP,真陽)\n",
    "\n",
    "False Positive(FP,偽陽)\n",
    "\n",
    "False Negative(FN,偽陰)\n",
    "\n",
    "True Negative(TN,真陰)\n",
    "\n",
    "\n",
    "而在機器學習理論中，我們通常用以下precision, recall, f1-score來探討精確度。\n",
    "\n",
    "precision = TP/(TP+FP) \n",
    "\n",
    "recall = TP/(TP+FN)\n",
    "\n",
    "f1-score 則為以上兩者之「harmonic mean 調和平均數」 \n",
    "\n",
    "f1-score= 2 x precision x recall/(recision + recall)"
   ]
  },
  {
   "cell_type": "code",
   "execution_count": 13,
   "metadata": {
    "scrolled": true
   },
   "outputs": [
    {
     "name": "stdout",
     "output_type": "stream",
     "text": [
      "[[ 88   0   8   0]\n",
      " [  4  12   0   2]\n",
      " [  8   0 290   0]\n",
      " [  1   0   0  19]]\n",
      "             precision    recall  f1-score   support\n",
      "\n",
      "        acc       0.87      0.92      0.89        96\n",
      "       good       1.00      0.67      0.80        18\n",
      "      unacc       0.97      0.97      0.97       298\n",
      "      vgood       0.90      0.95      0.93        20\n",
      "\n",
      "avg / total       0.95      0.95      0.95       432\n",
      "\n"
     ]
    }
   ],
   "source": [
    "from sklearn.metrics import classification_report   #import classification_report\n",
    "from sklearn.metrics import confusion_matrix        #to use the confusion_matrix\n",
    "pred = knn.predict(X_test)                          #cal the predict result after knn\n",
    "print(confusion_matrix(y_test, pred))               #show the confusion mat \n",
    "print(classification_report(y_test, pred)) #show the detail Accuracy that we can learn from the explanation above"
   ]
  },
  {
   "cell_type": "code",
   "execution_count": 14,
   "metadata": {
    "collapsed": true
   },
   "outputs": [],
   "source": [
    "def plot_confusion_matrix(cm, title='Confusion matrix', cmap=plt.cm.Blues):\n",
    "    \n",
    "    plt.imshow(cm, interpolation='nearest', cmap=cmap)\n",
    "    plt.title(title)\n",
    "    plt.colorbar()\n",
    " \n",
    "    tick_marks = np.arange(4)\n",
    "    aa=['acc','good','unacc','vgood']\n",
    "    plt.xticks(tick_marks, aa, rotation=45)\n",
    "    plt.yticks(tick_marks, aa)\n",
    "    plt.tight_layout()\n",
    "    plt.ylabel('True label')\n",
    "    plt.xlabel('Predicted label')\n",
    "\n"
   ]
  },
  {
   "cell_type": "code",
   "execution_count": 15,
   "metadata": {},
   "outputs": [
    {
     "data": {
      "image/png": "[encoded data removed]",
      "text/plain": [
       "<matplotlib.figure.Figure at 0x2c26f98fd68>"
      ]
     },
     "metadata": {},
     "output_type": "display_data"
    }
   ],
   "source": [
    "plt.figure()\n",
    "plot_confusion_matrix(confusion_matrix(y_test, pred))\n",
    "#plot_confusion_matrix(metrics.confusion_matrix(expected, predicted))"
   ]
  },
  {
   "cell_type": "markdown",
   "metadata": {},
   "source": [
    "# SVM"
   ]
  },
  {
   "cell_type": "code",
   "execution_count": 16,
   "metadata": {},
   "outputs": [
    {
     "name": "stdout",
     "output_type": "stream",
     "text": [
      "Accuracy on training set: 0.89\n",
      "Accuracy on test set: 0.89\n"
     ]
    }
   ],
   "source": [
    "from sklearn.svm import SVC  #import to use svm\n",
    " \n",
    "svc = SVC()                  #to use svc\n",
    "svc.fit(X_train, y_train)    #input the data\n",
    "\n",
    "print(\"Accuracy on training set: {:.2f}\".format(svc.score(X_train, y_train)))  #show the result\n",
    "print(\"Accuracy on test set: {:.2f}\".format(svc.score(X_test, y_test)))        #show the result"
   ]
  },
  {
   "cell_type": "code",
   "execution_count": 17,
   "metadata": {},
   "outputs": [
    {
     "name": "stdout",
     "output_type": "stream",
     "text": [
      "Accuracy on training set: 0.89\n",
      "Accuracy on test set: 0.89\n"
     ]
    }
   ],
   "source": [
    "from sklearn.preprocessing import MinMaxScaler #for preprocessing\n",
    "\n",
    "scaler = MinMaxScaler()\n",
    "X_train_scaled = scaler.fit_transform(X_train)\n",
    "X_test_scaled = scaler.fit_transform(X_test)\n",
    "\n",
    "svc = SVC()                         #to use svc\n",
    "svc.fit(X_train_scaled, y_train)    #input the data\n",
    "\n",
    "print(\"Accuracy on training set: {:.2f}\".format(svc.score(X_train_scaled, y_train)))  #show the result\n",
    "print(\"Accuracy on test set: {:.2f}\".format(svc.score(X_test_scaled, y_test)))        #show the result"
   ]
  },
  {
   "cell_type": "code",
   "execution_count": 18,
   "metadata": {
    "scrolled": true
   },
   "outputs": [
    {
     "name": "stdout",
     "output_type": "stream",
     "text": [
      "Accuracy on training set: 0.995\n",
      "Accuracy on test set: 0.981\n"
     ]
    }
   ],
   "source": [
    "svc = SVC(C=1000) #tune the 'c' value\n",
    "svc.fit(X_train_scaled, y_train)#input the data\n",
    "\n",
    "print(\"Accuracy on training set: {:.3f}\".format(svc.score(X_train_scaled, y_train)))#show the result\n",
    "print(\"Accuracy on test set: {:.3f}\".format(svc.score(X_test_scaled, y_test)))      #show the result"
   ]
  },
  {
   "cell_type": "code",
   "execution_count": 19,
   "metadata": {},
   "outputs": [
    {
     "name": "stdout",
     "output_type": "stream",
     "text": [
      "HW2 simple dataset\n",
      "----------------------------------------------------------------------------------\n",
      "Accuracy on training set\n",
      "KNN         : 0.985\n",
      "SVM(C=1000) : 0.995\n",
      "----------------------------------------------------------------------------------\n",
      "Accuracy on test set\n",
      "KNN         : 0.947\n",
      "SVM(C=1000) : 0.981\n"
     ]
    }
   ],
   "source": [
    "#show the final tresult of two different methods \n",
    "#\n",
    "print('HW2 simple dataset')\n",
    "\n",
    "#training part\n",
    "print('----------------------------------------------------------------------------------')\n",
    "print('Accuracy on training set')\n",
    "print('KNN         : {:.3f}'.format(knn.score(X_train, y_train)))\n",
    "print('SVM(C=1000) : {:.3f}'.format(svc.score(X_train, y_train)))\n",
    "\n",
    "#testing part\n",
    "print('----------------------------------------------------------------------------------')\n",
    "print('Accuracy on test set')\n",
    "print('KNN         : {:.3f}'.format(knn.score(X_test, y_test)))\n",
    "print('SVM(C=1000) : {:.3f}'.format(svc.score(X_test_scaled, y_test)))"
   ]
  }
 ],
 "metadata": {
  "kernelspec": {
   "display_name": "Python 3",
   "language": "python",
   "name": "python3"
  },
  "language_info": {
   "codemirror_mode": {
    "name": "ipython",
    "version": 3
   },
   "file_extension": ".py",
   "mimetype": "text/x-python",
   "name": "python",
   "nbconvert_exporter": "python",
   "pygments_lexer": "ipython3",
   "version": "3.5.4"
  }
 },
 "nbformat": 4,
 "nbformat_minor": 2
}
